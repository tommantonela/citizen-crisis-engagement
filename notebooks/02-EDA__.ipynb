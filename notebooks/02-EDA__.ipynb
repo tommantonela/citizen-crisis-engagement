{
 "cells": [
  {
   "cell_type": "markdown",
   "id": "fc61e788",
   "metadata": {},
   "source": [
    "### Análisis exploratorio de los datos\n",
    "\n",
    "* Análisis datos.\n",
    "    * Promedio/desvío tweets por período (bloque, semana, día) por municipio/global.\n",
    "    * Municipios con tweets superiores al promedio en cada unidad.\n",
    "        * Seleccionar aquellos que tengan más que el promedio para cada bloque ?\n",
    "            * Deja pocos usuarios..."
   ]
  },
  {
   "cell_type": "code",
   "execution_count": null,
   "id": "90760d3f",
   "metadata": {},
   "outputs": [],
   "source": [
    "import pandas as pd"
   ]
  },
  {
   "cell_type": "code",
   "execution_count": null,
   "id": "c3d3f68d",
   "metadata": {},
   "outputs": [],
   "source": [
    "data_dir = './df_merged/'\n",
    "\n",
    "df_tweets_db = pd.read_pickle(data_dir + 'df_tweets_db_processed.pickle')\n",
    "len(df_tweets_db)"
   ]
  },
  {
   "cell_type": "code",
   "execution_count": null,
   "id": "5788c6e6",
   "metadata": {},
   "outputs": [],
   "source": [
    "df_tweets_db['hashtag_count'] = df_tweets_db['hashtags'].map(len)\n",
    "df_tweets_db['media_count'] = df_tweets_db['media'].map(len)\n",
    "df_tweets_db['mentions_count'] = df_tweets_db['mentions'].map(len)\n",
    "df_tweets_db['url_count'] = df_tweets_db['url'].map(len)"
   ]
  },
  {
   "cell_type": "code",
   "execution_count": null,
   "id": "a074f513",
   "metadata": {},
   "outputs": [],
   "source": [
    "df_users_db = pd.read_pickle(data_dir + 'df_users_db.pickle')\n",
    "len(df_users_db) # este no está filtrado, pero los tweets si"
   ]
  },
  {
   "cell_type": "markdown",
   "id": "bf552311",
   "metadata": {},
   "source": [
    "#### Filtrado de muninicipios que no tuvieron tweets pre, durante y post-covid\n",
    "\n",
    "Filtramos los tweets de acuerdo a los límites, agrupamos y calculamos las cantidades para luego ver los user_ids que no tengan en todos los períodos.\n",
    "\n",
    "Guardar las stats y el set de tweets obtenido en un nuevo df."
   ]
  },
  {
   "cell_type": "code",
   "execution_count": null,
   "id": "a5ee1e66",
   "metadata": {},
   "outputs": [],
   "source": [
    "from datetime import datetime\n",
    "\n",
    "no_covid_2019 = datetime(2019,1,1)\n",
    "no_covid = datetime(2020,1,1)\n",
    "pre_covid = datetime(2020,3,1)\n",
    "post_covid = datetime(2022,1,1)\n",
    "\n",
    "def get_stats(df,no_covid, pre_covid,post_covid,min_date=None,column='user_id', agrr='count'):\n",
    "    if min_date is not None:\n",
    "        df_stats = df[df['created_at'] >= pd.to_datetime(min_date)]\n",
    "    \n",
    "    no_covid = pd.to_datetime(no_covid)\n",
    "    pre_covid = pd.to_datetime(pre_covid)\n",
    "    post_covid = pd.to_datetime(post_covid)\n",
    "    \n",
    "    df_stats = df[df['created_at'] <= no_covid].groupby(by=[column])[[column]].agg(agrr)\n",
    "    df_stats = df_stats.rename(columns={column:'no_covid'})\n",
    "    df_stats = pd.concat([df_stats, df[(df['created_at'] > no_covid) & (df_tweets_db['created_at'] <= pre_covid)].groupby(by=[column])[[column]].agg(agrr).rename(columns={column:'pre_covid'})], axis=1)\n",
    "    df_stats = pd.concat([df_stats, df[(df['created_at'] <= post_covid) & (df_tweets_db['created_at'] > pre_covid)].groupby(by=[column])[[column]].agg(agrr).rename(columns={column:'during_covid'})], axis=1)\n",
    "    df_stats = pd.concat([df_stats, df[df['created_at'] > post_covid].groupby(by=[column])[[column]].agg(agrr).rename(columns={column:'post_covid'})], axis=1)\n",
    "    df_stats = df_stats.fillna(0)\n",
    "    return df_stats"
   ]
  },
  {
   "cell_type": "code",
   "execution_count": null,
   "id": "d73db3b7",
   "metadata": {},
   "outputs": [],
   "source": [
    "df_stats = get_stats(df_tweets_db,no_covid, pre_covid,post_covid,min_date=no_covid_2019,agrr='count')\n",
    "df_stats.to_pickle('df_date_stats.pickle')\n",
    "df_stats\n",
    "\n",
    "# df_tweets_db[df_tweets_db['created_at'] < pd.to_datetime(no_covid_2019)]"
   ]
  },
  {
   "cell_type": "code",
   "execution_count": null,
   "id": "648be4e8",
   "metadata": {},
   "outputs": [],
   "source": [
    "len(df_stats[df_stats['no_covid'] > 0]), len(df_stats[df_stats['pre_covid'] > 0]), len(df_stats[df_stats['during_covid'] > 0]), len(df_stats[df_stats['post_covid'] > 0])"
   ]
  },
  {
   "cell_type": "code",
   "execution_count": null,
   "id": "4c25f01e",
   "metadata": {},
   "outputs": [],
   "source": [
    "# solo 87 cuentas tienen tweets en todos los períodos\n",
    "df_stats = df_stats[(df_stats['no_covid'] > 0) & (df_stats['pre_covid'] > 0) & (df_stats['during_covid'] > 0) & (df_stats['post_covid'] > 0)]\n",
    "\n",
    "import numpy as np\n",
    "\n",
    "perc = 0\n",
    "print(perc, len(df_stats[(df_stats['pre_covid'] >= np.percentile(df_stats['pre_covid'].values,perc)) & \n",
    "         (df_stats['during_covid'] >= np.percentile(df_stats['during_covid'].values,perc)) & \n",
    "         (df_stats['post_covid'] >= np.percentile(df_stats['post_covid'].values,perc))]))\n",
    "\n",
    "perc = 5\n",
    "print(perc, len(df_stats[(df_stats['pre_covid'] >= np.percentile(df_stats['pre_covid'].values,perc)) & \n",
    "         (df_stats['during_covid'] >= np.percentile(df_stats['during_covid'].values,perc)) & \n",
    "         (df_stats['post_covid'] >= np.percentile(df_stats['post_covid'].values,perc))]))\n",
    "\n",
    "\n",
    "perc = 10\n",
    "print(perc, len(df_stats[(df_stats['pre_covid'] >= np.percentile(df_stats['pre_covid'].values,perc)) & \n",
    "         (df_stats['during_covid'] >= np.percentile(df_stats['during_covid'].values,perc)) & \n",
    "         (df_stats['post_covid'] >= np.percentile(df_stats['post_covid'].values,perc))]))\n",
    "\n",
    "perc = 20\n",
    "print(perc, len(df_stats[(df_stats['pre_covid'] >= np.percentile(df_stats['pre_covid'].values,perc)) & \n",
    "         (df_stats['during_covid'] >= np.percentile(df_stats['during_covid'].values,perc)) & \n",
    "         (df_stats['post_covid'] >= np.percentile(df_stats['post_covid'].values,perc))]))\n",
    "\n",
    "perc = 25\n",
    "print(perc, len(df_stats[(df_stats['pre_covid'] >= np.percentile(df_stats['pre_covid'].values,perc)) & \n",
    "         (df_stats['during_covid'] >= np.percentile(df_stats['during_covid'].values,perc)) & \n",
    "         (df_stats['post_covid'] >= np.percentile(df_stats['post_covid'].values,perc))]))"
   ]
  },
  {
   "cell_type": "code",
   "execution_count": null,
   "id": "00f0f3db",
   "metadata": {},
   "outputs": [],
   "source": [
    "df_stats.describe()"
   ]
  },
  {
   "cell_type": "code",
   "execution_count": null,
   "id": "1658c6c4",
   "metadata": {},
   "outputs": [],
   "source": [
    "# tweets de los usuarios que tienen en todos los períodos\n",
    "no_covid_2019 = pd.to_datetime(no_covid_2019)\n",
    "no_covid = pd.to_datetime(no_covid)\n",
    "pre_covid = pd.to_datetime(pre_covid)\n",
    "post_covid = pd.to_datetime(post_covid)\n",
    "\n",
    "df_tweets_db = df_tweets_db[df_tweets_db['created_at'] >= pd.to_datetime(no_covid_2019)]\n",
    "\n",
    "df_tweets_db = df_tweets_db[df_tweets_db['user_id'].isin(df_stats.index)]\n",
    "df_tweets_db_no = df_tweets_db[df_tweets_db['created_at'] <= no_covid]\n",
    "df_tweets_db_pre = df_tweets_db[(df_tweets_db['created_at'] > no_covid) & (df_tweets_db['created_at'] <= pre_covid)]\n",
    "df_tweets_db_during = df_tweets_db[(df_tweets_db['created_at'] > pre_covid) & (df_tweets_db['created_at'] < post_covid)]\n",
    "df_tweets_db_post = df_tweets_db[df_tweets_db['created_at'] >= post_covid]\n",
    "\n",
    "len(df_tweets_db),len(df_tweets_db_no),len(df_tweets_db_pre),len(df_tweets_db_during),len(df_tweets_db_post)"
   ]
  },
  {
   "cell_type": "code",
   "execution_count": null,
   "id": "11a43adc",
   "metadata": {},
   "outputs": [],
   "source": [
    "df_tweets_db.describe()\n",
    "# df_tweets_db_no.describe()\n",
    "# df_tweets_db_pre.describe()\n",
    "# df_tweets_db_during.describe()\n",
    "# df_tweets_db_post.describe()"
   ]
  },
  {
   "cell_type": "code",
   "execution_count": null,
   "id": "5cf6a644",
   "metadata": {},
   "outputs": [],
   "source": [
    "df_tweets_db.groupby(by='user_id')[['user_id']].count().describe()\n",
    "# df_tweets_db_no.groupby(by='user_id')[['user_id']].count().describe()\n",
    "# df_tweets_db_pre.groupby(by='user_id')[['user_id']].count().describe()\n",
    "# df_tweets_db_during.groupby(by='user_id')[['user_id']].count().describe()\n",
    "# df_tweets_db_post.groupby(by='user_id')[['user_id']].count().describe()\n",
    "# get_stats(df_tweets_db,no_covid,pre_covid,post_covid).describe()"
   ]
  },
  {
   "cell_type": "code",
   "execution_count": null,
   "id": "88af8f7b",
   "metadata": {},
   "outputs": [],
   "source": [
    "import plotly.express as px\n",
    "\n",
    "fig = px.scatter(df_stats.reset_index(), x=\"pre_covid\", y=\"post_covid\", size=\"during_covid\", size_max=30)\n",
    "fig.show()"
   ]
  },
  {
   "cell_type": "markdown",
   "id": "affad70e",
   "metadata": {},
   "source": [
    "### "
   ]
  },
  {
   "cell_type": "code",
   "execution_count": null,
   "id": "306993e5",
   "metadata": {},
   "outputs": [],
   "source": [
    "# tweets originales only\n",
    "df_original_tweets = df_tweets_db[(df_tweets_db['replied_id'] == -1) & (df_tweets_db['retweeted_id'] == -1) & (df_tweets_db['quoted_id'] == -1)]\n",
    "df_original_tweets = df_original_tweets[df_original_tweets['user_id'].isin(set(df_stats.index))]\n",
    "# df_stats_originales = get_stats(df_original_tweets,no_covid,pre_covid,post_covid)\n",
    "# df_stats_originales.describe()"
   ]
  },
  {
   "cell_type": "code",
   "execution_count": null,
   "id": "b9fbf3de",
   "metadata": {},
   "outputs": [],
   "source": [
    "df_original_tweets = df_tweets_db[(df_tweets_db['retweeted_id'] == -1)]\n",
    "df_original_tweets = df_original_tweets[df_original_tweets['user_id'].isin(set(df_stats.index))]\n",
    "\n",
    "df_stats_originales = get_stats(df_original_tweets,no_covid,pre_covid,post_covid)\n",
    "df_stats_originales.describe()"
   ]
  },
  {
   "cell_type": "code",
   "execution_count": null,
   "id": "9bd6aa55",
   "metadata": {},
   "outputs": [],
   "source": [
    "df_original_tweets\n",
    "df_original_tweets.groupby(by='user_id')[['user_id']].count().describe()"
   ]
  },
  {
   "cell_type": "code",
   "execution_count": null,
   "id": "34b497ce",
   "metadata": {},
   "outputs": [],
   "source": [
    "df_original_tweets = df_original_tweets[df_original_tweets['user_id'].isin(df_stats.index)]\n",
    "df_original_tweets_no = df_original_tweets[df_original_tweets['created_at'] <= no_covid]\n",
    "df_original_tweets_pre = df_original_tweets[(df_original_tweets['created_at'] > no_covid) & (df_original_tweets['created_at'] <= pre_covid)]\n",
    "df_original_tweets_post = df_original_tweets[df_original_tweets['created_at'] >= post_covid]\n",
    "df_original_tweets_during = df_original_tweets[(df_original_tweets['created_at'] > pre_covid) & (df_original_tweets['created_at'] < post_covid)]"
   ]
  },
  {
   "cell_type": "code",
   "execution_count": null,
   "id": "44598762",
   "metadata": {},
   "outputs": [],
   "source": [
    "df_original_tweets_no"
   ]
  },
  {
   "cell_type": "code",
   "execution_count": null,
   "id": "aabd1332",
   "metadata": {},
   "outputs": [],
   "source": [
    "def get_engagement(df_original_tweets):\n",
    "    print('reply',100 * len(df_original_tweets[df_original_tweets['reply_count'] > 0]) / len(df_original_tweets))\n",
    "    print('like',100 * len(df_original_tweets[df_original_tweets['favorite_count'] > 0]) / len(df_original_tweets))\n",
    "    print('RT',100 * len(df_original_tweets[df_original_tweets['retweet_count'] > 0]) / len(df_original_tweets))\n",
    "    print('any',100 * len(df_original_tweets[(df_original_tweets['reply_count'] > 0) | (df_original_tweets['favorite_count'] > 0) | (df_original_tweets['retweet_count'] > 0)]) / len(df_original_tweets))\n",
    "    print('---------')"
   ]
  },
  {
   "cell_type": "code",
   "execution_count": null,
   "id": "a4dae97f",
   "metadata": {},
   "outputs": [],
   "source": [
    "get_engagement(df_original_tweets)\n",
    "get_engagement(df_original_tweets_no)\n",
    "get_engagement(df_original_tweets_pre)\n",
    "get_engagement(df_original_tweets_during)\n",
    "get_engagement(df_original_tweets_post)"
   ]
  },
  {
   "cell_type": "code",
   "execution_count": null,
   "id": "434f1284",
   "metadata": {},
   "outputs": [],
   "source": [
    "df_original_tweets.describe()\n",
    "# df_original_tweets_no.describe()\n",
    "# df_original_tweets_pre.describe()\n",
    "# df_original_tweets_during.describe()\n",
    "# df_original_tweets_post.describe()"
   ]
  },
  {
   "cell_type": "code",
   "execution_count": null,
   "id": "bec1cb6e",
   "metadata": {},
   "outputs": [],
   "source": [
    "df_original_tweets[['favorite_count','retweet_count','reply_count']].corr()"
   ]
  },
  {
   "cell_type": "code",
   "execution_count": null,
   "id": "6287b660",
   "metadata": {},
   "outputs": [],
   "source": [
    "col = 'media_count'\n",
    "col = 'mentions_count'\n",
    "col = 'url_count'\n",
    "col = 'hashtag_count'\n",
    "print(len(df_original_tweets[df_original_tweets[col] > 0]))\n",
    "print(len(df_original_tweets_no[df_original_tweets_no[col] > 0]))\n",
    "print(len(df_original_tweets_pre[df_original_tweets_pre[col] > 0]))\n",
    "print(len(df_original_tweets_during[df_original_tweets_during[col] > 0]))\n",
    "print(len(df_original_tweets_post[df_original_tweets_post[col] > 0]))"
   ]
  },
  {
   "cell_type": "code",
   "execution_count": null,
   "id": "af383b74",
   "metadata": {},
   "outputs": [],
   "source": [
    "df_not_original_tweets = df_tweets_db[(df_tweets_db['retweeted_id'] != -1)]\n",
    "df_not_original_tweets = df_not_original_tweets[df_not_original_tweets['user_id'].isin(set(df_stats.index))]\n",
    "df_stats_not_originales = get_stats(df_not_original_tweets,no_covid,pre_covid,post_covid)\n",
    "df_stats_not_originales"
   ]
  },
  {
   "cell_type": "code",
   "execution_count": null,
   "id": "d064dae6",
   "metadata": {},
   "outputs": [],
   "source": [
    "df_not_original_tweets.groupby(by='user_id')[['user_id']].count().describe()"
   ]
  },
  {
   "cell_type": "code",
   "execution_count": null,
   "id": "06e3b524",
   "metadata": {},
   "outputs": [],
   "source": [
    "print(len(df_not_original_tweets))\n",
    "print(len(df_not_original_tweets[df_not_original_tweets['created_at'] <= no_covid]))\n",
    "print(len(df_not_original_tweets[(df_not_original_tweets['created_at'] > no_covid) & (df_not_original_tweets['created_at'] <= pre_covid)]))\n",
    "print(len(df_not_original_tweets[(df_not_original_tweets['created_at'] > pre_covid) & (df_not_original_tweets['created_at'] < post_covid)]))\n",
    "print(len(df_not_original_tweets[df_not_original_tweets['created_at'] >= post_covid]))\n",
    "\n",
    "df_stats_not_originales.describe()"
   ]
  },
  {
   "cell_type": "code",
   "execution_count": null,
   "id": "33b23d04",
   "metadata": {},
   "outputs": [],
   "source": [
    "df_not_original_tweets = df_tweets_db[(df_tweets_db['replied_id'] != -1) | (df_tweets_db['retweeted_id'] != -1) | (df_tweets_db['quoted_id'] != -1)]\n",
    "df_not_original_tweets = df_not_original_tweets[df_not_original_tweets['user_id'].isin(set(df_stats.index))]\n",
    "df_stats_not_originales = get_stats(df_not_original_tweets,no_covid,pre_covid,post_covid)\n",
    "df_stats_not_originales"
   ]
  },
  {
   "cell_type": "code",
   "execution_count": null,
   "id": "33a12688",
   "metadata": {},
   "outputs": [],
   "source": [
    "df_replies_tweets = df_tweets_db[(df_tweets_db['replied_id'] != -1)]\n",
    "df_replies_tweets = df_replies_tweets[df_replies_tweets['user_id'].isin(set(df_stats.index))]\n",
    "df_replies_tweets = get_stats(df_replies_tweets,pre_covid,post_covid)\n",
    "df_replies_tweets"
   ]
  },
  {
   "cell_type": "code",
   "execution_count": null,
   "id": "c4a4d258",
   "metadata": {},
   "outputs": [],
   "source": [
    "df_replies_tweets = df_tweets_db[(df_tweets_db['retweeted_id'] != -1)]\n",
    "df_replies_tweets = df_replies_tweets[df_replies_tweets['user_id'].isin(set(df_stats.index))]\n",
    "df_replies_tweets = get_stats(df_replies_tweets,pre_covid,post_covid)\n",
    "df_replies_tweets"
   ]
  },
  {
   "cell_type": "code",
   "execution_count": null,
   "id": "0a9c3282",
   "metadata": {},
   "outputs": [],
   "source": [
    "df_replies_tweets = df_tweets_db[(df_tweets_db['quoted_id'] != -1)]\n",
    "df_replies_tweets = df_replies_tweets[df_replies_tweets['user_id'].isin(set(df_stats.index))]\n",
    "df_replies_tweets = get_stats(df_replies_tweets,pre_covid,post_covid)\n",
    "df_replies_tweets"
   ]
  },
  {
   "cell_type": "code",
   "execution_count": null,
   "id": "2bee171b",
   "metadata": {},
   "outputs": [],
   "source": [
    "# Esto está para todos los tweets, se puede filtrar de acuerdo a lo que se desee, yo haría RT vs el resto.\n",
    "def get_subset_tweets(df, which_tweets):\n",
    "    if which_tweets == 'all':\n",
    "        df_tweets_selected = df\n",
    "    elif which_tweets == 'replies':\n",
    "        df_tweets_selected = df[df['replied_id'] != -1]\n",
    "    elif which_tweets == 'retweets':\n",
    "        df_tweets_selected = df[df['retweeted_id'] != -1]\n",
    "    elif which_tweets == 'quotes':\n",
    "        df_tweets_selected = df[df['quoted_id'] != -1]\n",
    "    elif which_tweets == 'no-rt': # todo lo que no sean RTs\n",
    "        df_tweets_selected = df[df['retweeted_id'] == -1]\n",
    "    return df_tweets_selected"
   ]
  },
  {
   "cell_type": "code",
   "execution_count": null,
   "id": "c56f5a37",
   "metadata": {},
   "outputs": [],
   "source": [
    "which_tweets = 'replies'\n",
    "df_tweets_selected = get_subset_tweets(df_tweets_db, which_tweets)\n",
    "len(df_tweets_selected)"
   ]
  },
  {
   "cell_type": "code",
   "execution_count": null,
   "id": "8955a313",
   "metadata": {},
   "outputs": [],
   "source": [
    "column = 'media_count'\n",
    "agrr = 'count'\n",
    "get_stats(df_original_tweets[df_original_tweets['media_count'] > 0].reset_index(),pre_covid,post_covid,column='tweet_id', agrr=agrr).describe()"
   ]
  },
  {
   "cell_type": "code",
   "execution_count": null,
   "id": "05990f71",
   "metadata": {},
   "outputs": [],
   "source": []
  },
  {
   "cell_type": "markdown",
   "id": "0f3f5f7b",
   "metadata": {},
   "source": [
    "#### Analizar los snapshots para obtener las cantidades de followees/followers por período\n",
    "\n",
    "Teniendo en cuenta los snapshots que bajé, ver cuál es el snapshot más cercano a las fechas de corte para estimar los promedios en cada bloque.\n",
    "\n",
    "OJO!! En algunos de los snapshots, el valor quedó pegado a algún otro, con lo cual, hay que revisarlos manualmente."
   ]
  },
  {
   "cell_type": "code",
   "execution_count": null,
   "id": "b67567dd",
   "metadata": {},
   "outputs": [],
   "source": [
    "df_snapshots_stats = pd.read_pickle('C:/Users/Anto/Dropbox/00_papers/df_stats.pickle')\n",
    "df_snapshots_stats = df_snapshots_stats.merge(df_users_db.reset_index()[['screen_name','user_id']],left_on='screenname',right_on='screen_name')\n",
    "df_snapshots_stats = df_snapshots_stats[df_snapshots_stats['user_id'].isin(df_tweets_db['user_id'])]\n",
    "df_snapshots_stats['timestamp'] = [pd.to_datetime(datetime.strptime(x, '%Y%m%d%H%M%S')).to_pydatetime() if type(x) is str else None for x in df_snapshots_stats['timestamp']]\n",
    "df_snapshots_stats"
   ]
  },
  {
   "cell_type": "code",
   "execution_count": null,
   "id": "7b3ae65b",
   "metadata": {},
   "outputs": [],
   "source": [
    "from datetime import timedelta\n",
    "\n",
    "df_pre = df_snapshots_stats[(df_snapshots_stats['timestamp'] <= pre_covid + timedelta(days=1)) & (df_snapshots_stats['timestamp'] >= pre_covid - timedelta(days=1))]\n",
    "df_pre = df_pre.sort_values(by='timestamp').drop_duplicates('screenname',keep='last')\n",
    "df_pre"
   ]
  },
  {
   "cell_type": "code",
   "execution_count": null,
   "id": "4e45649f",
   "metadata": {},
   "outputs": [],
   "source": [
    "df_post = df_snapshots_stats[(df_snapshots_stats['timestamp'] <= post_covid + timedelta(days=3)) & (df_snapshots_stats['timestamp'] >= post_covid - timedelta(days=3))]\n",
    "df_post = df_post.sort_values(by='timestamp').drop_duplicates('screenname',keep='last')\n",
    "df_post"
   ]
  },
  {
   "cell_type": "markdown",
   "id": "9d2d566b",
   "metadata": {},
   "source": [
    "#### Obtener valor más actual para las stats de los usuarios\n",
    "\n",
    "Como los datos de los usuarios están desactualizados en la db, obtener los valores a día de hoy.\n",
    "Alcanza con hacer una query a la API por fuera."
   ]
  },
  {
   "cell_type": "code",
   "execution_count": null,
   "id": "9654d228",
   "metadata": {},
   "outputs": [],
   "source": [
    "import random\n",
    "import re\n",
    "import requests\n",
    "\n",
    "def get_bearer_token():\n",
    "    url = \"https://abs.twimg.com/responsive-web/client-web/main.90f9e505.js\"\n",
    "    user_agent = f'Mozilla/5.0 (Windows NT 10.0; Win64; x64) AppleWebKit/537.36 (KHTML, like Gecko) Chrome/79.0.3945.{random.randint(0, 9999)} Safari/537.{random.randint(0, 99)}'\n",
    "    \n",
    "    headers = {'user-agent': user_agent}\n",
    "    response = requests.get(url,headers=headers)\n",
    "    regex = re.compile(\"s=\\\"AAAAA[^\\\"]+\\\"\")\n",
    "\n",
    "    matches = regex.findall(response.text)[0]\n",
    "    bearer = matches[3:-1]\n",
    "\n",
    "    url = 'https://twitter.com/i/user/0'\n",
    "\n",
    "    r = requests.get(url, headers = {'User-Agent': user_agent})\n",
    "    match = re.search(r'document\\.cookie = decodeURIComponent\\(\"gt=(\\d+); Max-Age=10800; Domain=\\.twitter\\.com; Path=/; Secure\"\\);', r.text)\n",
    "    if match is not None:\n",
    "        token = match.group(1)\n",
    "    elif 'gt' in r.cookies:\n",
    "        token = r.cookies['gt']\n",
    "    else:\n",
    "        r = requests.post('https://api.twitter.com/1.1/guest/activate.json', data = b'', headers = headers)\n",
    "        o = r.json()\n",
    "        token = o.get('guest_token')\n",
    "    \n",
    "    return bearer, token\n",
    "\n",
    "bearer, guest_token = get_bearer_token()\n",
    "bearer, guest_token"
   ]
  },
  {
   "cell_type": "code",
   "execution_count": null,
   "id": "b5595d51",
   "metadata": {},
   "outputs": [],
   "source": [
    "from bs4 import BeautifulSoup\n",
    "import unicodedata\n",
    "from collections import deque\n",
    "from tqdm.notebook import tqdm\n",
    "import pandas as pd\n",
    "import time\n",
    "\n",
    "def get_page(search_url,headers=None,params=None): # para poder controlar los problemas -- AGREGAR AL OTRO CODIGO!\n",
    "    \n",
    "    timeout = True\n",
    "    retries = 10\n",
    "    response = None\n",
    "\n",
    "    while retries > 0 and timeout:\n",
    "        retries -= 1\n",
    "        try: \n",
    "            if headers is not None and params is not None:\n",
    "                rr = requests.get(search_url, headers=headers, params=params,timeout=10)\n",
    "            elif headers is not None:\n",
    "                rr = requests.get(search_url, headers=headers,timeout=10)\n",
    "            elif params is not None:\n",
    "                rr = requests.get(search_url, params=params,timeout=10)\n",
    "            else:\n",
    "                rr = requests.get(search_url,timeout=10)\n",
    "\n",
    "            if rr.status_code == 200:\n",
    "                timeout = False\n",
    "                response = rr\n",
    "            else:\n",
    "                print('Temporarily Unavailable ...',rr.status_code)\n",
    "                if rr.status_code == 403 or rr.status_code == 429 or rr.status_code == 401:\n",
    "                    bearer, guest_token = get_bearer_token()\n",
    "                    time.sleep(3)\n",
    "        except requests.exceptions.RequestException as e:\n",
    "            timeout = True\n",
    "            print('Temporarily Unavailable ...')\n",
    "            time.sleep(3)\n",
    "    return response\n",
    "\n",
    "import urllib.parse\n",
    "import json\n",
    "\n",
    "def get_user_current_info(user_id): \n",
    "    headers = {'user-agent': 'Mozilla/5.0 (Windows NT 10.0; Win64; x64) AppleWebKit/537.36 (KHTML, like Gecko) Chrome/108.0.0.0 Safari/537.36 Edg/108.0.1462.46',\n",
    "              }\n",
    "    response = get_page('https://twitter.com/intent/user?user_id='+str(user_id),headers=headers)\n",
    "    \n",
    "    if response is None:\n",
    "        return None\n",
    "        \n",
    "    headers = {}\n",
    "    headers['user-agent'] = 'Mozilla/5.0 (Windows NT 10.0; Win64; x64) AppleWebKit/537.36 (KHTML, like Gecko) Chrome/108.0.0.0 Safari/537.36 Edg/108.0.1462.46'\n",
    "    headers['x-guest-token'] = guest_token\n",
    "    headers['authorization'] = 'Bearer '+bearer\n",
    "\n",
    "    url = 'https://twitter.com/i/api/graphql/I5nvpI91ljifos1Y3Lltyg/UserByRestId'\n",
    "    params = {'userId': str(user_id), 'withSafetyModeUserFields': True, 'withSuperFollowsUserFields': True}\n",
    "    params = urllib.parse.urlencode({'variables': json.dumps(params, separators = (',', ':'))}, quote_via = urllib.parse.quote)\n",
    "    response = get_page(url,headers=headers,params=params)\n",
    "    \n",
    "    if response is None:\n",
    "        return None\n",
    "    \n",
    "    response = response.json()['data']['user']\n",
    "\n",
    "    if 'result' not in response:\n",
    "        return None\n",
    "    \n",
    "    if response['result']['__typename'] == 'UserUnavailable':\n",
    "        return None\n",
    "    \n",
    "    return {'user_id' : user_id,\n",
    "            'screename':response['result']['legacy']['screen_name'],\n",
    "            'followers':response['result']['legacy']['followers_count'], \n",
    "            'followees':response['result']['legacy']['friends_count'], \n",
    "            'listed':response['result']['legacy']['listed_count'],\n",
    "            'tweets':response['result']['legacy']['statuses_count']} "
   ]
  },
  {
   "cell_type": "code",
   "execution_count": null,
   "id": "658c3782",
   "metadata": {},
   "outputs": [],
   "source": [
    "listi = deque()\n",
    "for x in tqdm(df_users_db.index):\n",
    "    info = get_user_current_info(x)\n",
    "    if info is not None:\n",
    "        listi.append(info)\n",
    "        \n",
    "df_user_current_stats = pd.DataFrame(listi)\n",
    "df_user_current_stats.to_pickle('df_user_current_stats.pickle')\n",
    "df_user_current_stats"
   ]
  },
  {
   "cell_type": "code",
   "execution_count": null,
   "id": "dbb1bfa8",
   "metadata": {},
   "outputs": [],
   "source": [
    "df_user_current_stats = pd.read_pickle('df_user_current_stats.pickle')\n",
    "# df_user_current_stats[df_user_current_stats['user_id'].isin(df_stats.index)].describe()\n",
    "df_user_current_stats.sort_values(by='followers')"
   ]
  },
  {
   "cell_type": "code",
   "execution_count": null,
   "id": "279c0565",
   "metadata": {},
   "outputs": [],
   "source": []
  }
 ],
 "metadata": {
  "kernelspec": {
   "display_name": "Python 3 (ipykernel)",
   "language": "python",
   "name": "python3"
  },
  "language_info": {
   "codemirror_mode": {
    "name": "ipython",
    "version": 3
   },
   "file_extension": ".py",
   "mimetype": "text/x-python",
   "name": "python",
   "nbconvert_exporter": "python",
   "pygments_lexer": "ipython3",
   "version": "3.10.9"
  }
 },
 "nbformat": 4,
 "nbformat_minor": 5
}
